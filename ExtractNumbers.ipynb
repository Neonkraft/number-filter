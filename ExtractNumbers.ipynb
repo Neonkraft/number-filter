{
 "cells": [
  {
   "cell_type": "code",
   "execution_count": 1,
   "metadata": {},
   "outputs": [
    {
     "name": "stderr",
     "output_type": "stream",
     "text": [
      "/Users/i308931/keralarescue/outcall/outcall/lib/python3.5/importlib/_bootstrap.py:222: RuntimeWarning: numpy.dtype size changed, may indicate binary incompatibility. Expected 96, got 88\n",
      "  return f(*args, **kwds)\n",
      "/Users/i308931/keralarescue/outcall/outcall/lib/python3.5/importlib/_bootstrap.py:222: RuntimeWarning: numpy.dtype size changed, may indicate binary incompatibility. Expected 96, got 88\n",
      "  return f(*args, **kwds)\n"
     ]
    }
   ],
   "source": [
    "import pandas as pd\n",
    "import re\n",
    "import os"
   ]
  },
  {
   "cell_type": "code",
   "execution_count": 2,
   "metadata": {},
   "outputs": [],
   "source": [
    "# Regex patterns which are used later\n",
    "# Mobile phone numbers in India start with 6,7,8 or 9 and has ten digits\n",
    "# Kerala land lines start with 04 or 4\n",
    "# Please validate the regex. Improvements are welcome.\n",
    "mobile_phone_pattern = re.compile(\"^[6-9]{1}[0-9]{9}$\")\n",
    "lan_phone_pattern = re.compile(\"^[04]{1}[0-9]{9}$\") # TODO: Update regex to filter out numbers which starts with 0 but is not followed immediately by 4\n",
    "\n",
    "# The directory to use for fetching data and storing results\n",
    "input_dir = 'input'\n",
    "results_dir = 'results'"
   ]
  },
  {
   "cell_type": "code",
   "execution_count": 3,
   "metadata": {},
   "outputs": [],
   "source": [
    "# Method returns dataframe after dropping rows with duplication in specified column\n",
    "# We'll be using Contact (phone number) as the column to consider while dropping duplicates\n",
    "def drop_duplicates(df, column):\n",
    "    return df.drop_duplicates(subset=[column])\n",
    "\n",
    "# Calculates the number of duplicate rows in a given dataframe\n",
    "def calculate_n_duplicates(df, column):\n",
    "    df_without_duplicates = drop_duplicates(df, column)\n",
    "    n_with_duplicates = df.shape[0] - df_without_duplicates.shape[0]\n",
    "    return n_with_duplicates\n",
    "\n",
    "# Prints total number of rows, duplicate rows, and unique rows in the dataframe\n",
    "# duplicate rows + unique rows = total number of rows\n",
    "def calc_duplicate_stats(df, column):\n",
    "    n_total = df.shape[0]\n",
    "    n_duplicate = calculate_n_duplicates(df, column)\n",
    "    \n",
    "    print(\"Total number of requests: \" + str(n_total))\n",
    "    print(\"Duplicates in requests: \" + str(n_duplicate))\n",
    "    print(\"Unique requests: \" + str(n_total-n_duplicate))"
   ]
  },
  {
   "cell_type": "code",
   "execution_count": 4,
   "metadata": {},
   "outputs": [],
   "source": [
    "# returns true is regex matches\n",
    "def does_regex_match(pattern, string):\n",
    "    match = pattern.match(string)\n",
    "    if match is None:\n",
    "        return False\n",
    "    else:\n",
    "        return True\n",
    "\n",
    "# return the string with all the characters in characters removed\n",
    "def strip_all_characters_in_list(string, characters):\n",
    "    for character in characters:\n",
    "        string = \"\".join(string.split(character))\n",
    "    return string\n",
    "\n",
    "# Removes spaces, minuses, pluses, and dots from the given string and returns it\n",
    "def strip_number_string(string):\n",
    "    return strip_all_characters_in_list(string, [\" \", \"-\", \".\", \"+\"])\n",
    "        \n",
    "def strip_all_nonnumeric_characters(string):\n",
    "    new_string = ''.join(ch for ch in string if ch.isdigit())\n",
    "    return new_string\n",
    "    \n",
    "# returns true or false depending on whether or not the given string matches the\n",
    "# regex for mobile/lan\n",
    "def is_valid_phone_number(string, is_mobile=True):\n",
    "    if is_mobile:\n",
    "        return does_regex_match(mobile_phone_pattern, string)\n",
    "    else:\n",
    "        return does_regex_match(lan_phone_pattern, string)"
   ]
  },
  {
   "cell_type": "code",
   "execution_count": 5,
   "metadata": {},
   "outputs": [],
   "source": [
    "# Returns all the rows with valid Contact\n",
    "def get_valid_rows(df):\n",
    "    valid_mobile_rows = []\n",
    "    valid_lan_rows = []\n",
    "    invalid_rows = []\n",
    "\n",
    "    for index, row in df.iterrows():\n",
    "        contact_phone = row['Contact']\n",
    "        #print(contact_phone)\n",
    "        if is_valid_phone_number(strip_all_nonnumeric_characters(contact_phone)): # if valid mobile number\n",
    "            valid_mobile_rows.append(row)\n",
    "        elif is_valid_phone_number(strip_all_nonnumeric_characters(contact_phone), is_mobile=False): # if valid lan number\n",
    "            valid_lan_rows.append(row)\n",
    "        else:\n",
    "            invalid_rows.append(row)\n",
    "\n",
    "    print(\"# total rows: \" + str(df.shape[0]))\n",
    "    print(\"# valid mobile rows: \" + str(len(valid_mobile_rows)))\n",
    "    print(\"# valid lan rows: \" + str(len(valid_lan_rows)))\n",
    "    print(\"# total valid rows: \" + str(len(valid_mobile_rows) + len(valid_lan_rows)))\n",
    "    print(\"# invalid rows: \" + str(len(invalid_rows)))\n",
    "\n",
    "    return valid_mobile_rows, valid_lan_rows"
   ]
  },
  {
   "cell_type": "code",
   "execution_count": 6,
   "metadata": {},
   "outputs": [],
   "source": [
    "# Removes duplicates from the dataframe by Contact column\n",
    "# Gets the valid phone numbers from it and writes it to separate csvs\n",
    "# for mobile numbers and landline numbers\n",
    "\n",
    "def save_csv_for_requests(df, filename_prefix):\n",
    "    df_without_duplicates = drop_duplicates(df, 'Contact')\n",
    "    valid_mobile_rows, valid_lan_rows = get_valid_rows(df_without_duplicates)\n",
    "\n",
    "    labels = list(df)\n",
    "    \n",
    "    df_valid_mobile = pd.DataFrame.from_records(valid_mobile_rows, columns=labels)\n",
    "    file_path = os.path.join(results_dir, filename_prefix + '_valid_mobile_numbers.csv')\n",
    "    df_valid_mobile.to_csv(file_path, columns=['Contact', 'Person']) # remove the columns parameter to get all the columns\n",
    "    \n",
    "    df_valid_lan = pd.DataFrame.from_records(valid_lan_rows, columns=labels)\n",
    "    file_path = os.path.join(results_dir, filename_prefix + '_valid_lan_numbers.csv')\n",
    "    df_valid_lan.to_csv(file_path, columns=['Contact', 'Person'])"
   ]
  },
  {
   "cell_type": "code",
   "execution_count": 7,
   "metadata": {},
   "outputs": [],
   "source": [
    "def cast_columns_to_type_string(df, columns):\n",
    "    for column in columns:\n",
    "        df[column] = df[column].astype(str)\n",
    "    return df\n",
    "\n",
    "def remove_non_numeric_characters_from_columns(df, columns):\n",
    "    for column in columns:\n",
    "        remove_non_numeric = lambda x: strip_all_nonnumeric_characters(x)\n",
    "        df[column].apply(remove_non_numeric)\n",
    "    return df"
   ]
  },
  {
   "cell_type": "markdown",
   "metadata": {},
   "source": [
    "END OF FUNCTION DEFINITIONS"
   ]
  },
  {
   "cell_type": "code",
   "execution_count": 8,
   "metadata": {},
   "outputs": [],
   "source": [
    "# Reading the excel files\n",
    "\n",
    "# data_file is the larger dataset, which contains all the rows\n",
    "data_file = 'data.xlsx'\n",
    "data_file_path = os.path.join(input_dir, data_file)\n",
    "df = pd.read_excel(data_file_path, sheet_name='Sheet1')\n",
    "\n",
    "# subset_file is the smaller data that we want to filter out from the larger dataset\n",
    "subset_file = 'data_subset.xlsx'\n",
    "subset_data_file_path = os.path.join(input_dir, subset_file)\n",
    "df_subset = pd.read_excel(subset_data_file_path, sheet_name='Sheet1')"
   ]
  },
  {
   "cell_type": "code",
   "execution_count": 9,
   "metadata": {},
   "outputs": [],
   "source": [
    "# Explicitly cast phone number columns to string type\n",
    "df = cast_columns_to_type_string(df, ['Contact'])\n",
    "df_subset = cast_columns_to_type_string(df_subset, ['Contact'])\n",
    "\n",
    "# Strip the phone number column of all non numeric characters\n",
    "df = remove_non_numeric_characters_from_columns(df, ['Contact'])\n",
    "df_subset = remove_non_numeric_characters_from_columns(df_subset, ['Contact'])"
   ]
  },
  {
   "cell_type": "code",
   "execution_count": 10,
   "metadata": {},
   "outputs": [
    {
     "data": {
      "text/plain": [
       "(5, 3)"
      ]
     },
     "execution_count": 10,
     "metadata": {},
     "output_type": "execute_result"
    }
   ],
   "source": [
    "# list of phone numbers in the subset dataframe\n",
    "subset_phone_numbers = df_subset['Contact'].values\n",
    "\n",
    "# apply the filter on the master dataframe\n",
    "df = df[~df['Contact'].isin(subset_phone_numbers)]\n",
    "\n",
    "# df.to_csv('filtered', columns=['Contact'])\n",
    "df.shape"
   ]
  },
  {
   "cell_type": "code",
   "execution_count": 11,
   "metadata": {},
   "outputs": [],
   "source": [
    "# Seperating requests made by self and on behalf of others to different dataframes\n",
    "df_self_request = df.loc[df['Self Request'] == True]\n",
    "df_behalf_request = df.loc[df['Self Request'] == False]"
   ]
  },
  {
   "cell_type": "code",
   "execution_count": 13,
   "metadata": {},
   "outputs": [
    {
     "name": "stdout",
     "output_type": "stream",
     "text": [
      "$$ SELF REQUESTS $$\n",
      "# total rows: 2\n",
      "# valid mobile rows: 1\n",
      "# valid lan rows: 0\n",
      "# total valid rows: 1\n",
      "# invalid rows: 1\n",
      "\n",
      "$$ BEHALF REQUESTS $$\n",
      "# total rows: 2\n",
      "# valid mobile rows: 1\n",
      "# valid lan rows: 1\n",
      "# total valid rows: 2\n",
      "# invalid rows: 0\n"
     ]
    }
   ],
   "source": [
    "# Saving the filtered\n",
    "\n",
    "print(\"$$ SELF REQUESTS $$\")\n",
    "save_csv_for_requests(df_self_request, \"SELF\")\n",
    "\n",
    "print(\"\")\n",
    "\n",
    "print(\"$$ BEHALF REQUESTS $$\")\n",
    "save_csv_for_requests(df_behalf_request, \"BEHALF\")"
   ]
  },
  {
   "cell_type": "code",
   "execution_count": null,
   "metadata": {},
   "outputs": [],
   "source": []
  },
  {
   "cell_type": "code",
   "execution_count": null,
   "metadata": {},
   "outputs": [],
   "source": []
  }
 ],
 "metadata": {
  "kernelspec": {
   "display_name": "Python 3",
   "language": "python",
   "name": "python3"
  },
  "language_info": {
   "codemirror_mode": {
    "name": "ipython",
    "version": 3
   },
   "file_extension": ".py",
   "mimetype": "text/x-python",
   "name": "python",
   "nbconvert_exporter": "python",
   "pygments_lexer": "ipython3",
   "version": "3.5.3"
  }
 },
 "nbformat": 4,
 "nbformat_minor": 2
}
